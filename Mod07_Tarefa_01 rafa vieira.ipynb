{
 "cells": [
  {
   "cell_type": "markdown",
   "metadata": {
    "id": "d8yCrvnM_2sd"
   },
   "source": [
    "# Módulo 07, Tarefa 01\n",
    "\n",
    "Vamos começar a mexer na nossa base de projeto? Já fizemos um exercício de montar a variável resposta, já pudemos perceber que essa atividade pode não ser trivial. Vamos agora trabalhar a base para que fique propícia ao *scikitlearn* para trabalharmos.\n",
    "\n",
    "Lembrando, a base se chama demo01.csv, e originalmente está publicada [aqui](https://www.kaggle.com/rikdifos/credit-card-approval-prediction)."
   ]
  },
  {
   "cell_type": "markdown",
   "metadata": {
    "id": "hcMBVVE8_2sg"
   },
   "source": [
    "#### 1) Carregue a base e avalie:\n",
    "\n",
    "- As variáveis\n",
    "- Tipos de dados de cada variável\n",
    "- Quantidade de missings\n",
    "- Distribuição da variável resposta (mau)"
   ]
  },
  {
   "cell_type": "code",
   "execution_count": 28,
   "metadata": {},
   "outputs": [],
   "source": [
    "import pandas as pd\n",
    "import matplotlib.pyplot as plt\n",
    "import seaborn as sns\n",
    "df = pd.read_csv(\"demo01.csv\", encoding=\"latin1\")"
   ]
  },
  {
   "cell_type": "code",
   "execution_count": 30,
   "metadata": {
    "id": "jfUxW_PX_2sh"
   },
   "outputs": [
    {
     "data": {
      "text/plain": [
       "ID                       int64\n",
       "CODE_GENDER             object\n",
       "FLAG_OWN_CAR            object\n",
       "FLAG_OWN_REALTY         object\n",
       "CNT_CHILDREN             int64\n",
       "AMT_INCOME_TOTAL       float64\n",
       "NAME_INCOME_TYPE        object\n",
       "NAME_EDUCATION_TYPE     object\n",
       "NAME_FAMILY_STATUS      object\n",
       "NAME_HOUSING_TYPE       object\n",
       "DAYS_BIRTH               int64\n",
       "DAYS_EMPLOYED            int64\n",
       "FLAG_MOBIL               int64\n",
       "FLAG_WORK_PHONE          int64\n",
       "FLAG_PHONE               int64\n",
       "FLAG_EMAIL               int64\n",
       "OCCUPATION_TYPE         object\n",
       "CNT_FAM_MEMBERS        float64\n",
       "dtype: object"
      ]
     },
     "execution_count": 30,
     "metadata": {},
     "output_type": "execute_result"
    }
   ],
   "source": [
    "# Verificar os tipos de dados\n",
    "df.dtypes\n"
   ]
  },
  {
   "cell_type": "code",
   "execution_count": 32,
   "metadata": {},
   "outputs": [
    {
     "data": {
      "text/plain": [
       "ID                         0\n",
       "CODE_GENDER                0\n",
       "FLAG_OWN_CAR               0\n",
       "FLAG_OWN_REALTY            0\n",
       "CNT_CHILDREN               0\n",
       "AMT_INCOME_TOTAL           0\n",
       "NAME_INCOME_TYPE           0\n",
       "NAME_EDUCATION_TYPE        0\n",
       "NAME_FAMILY_STATUS         0\n",
       "NAME_HOUSING_TYPE          0\n",
       "DAYS_BIRTH                 0\n",
       "DAYS_EMPLOYED              0\n",
       "FLAG_MOBIL                 0\n",
       "FLAG_WORK_PHONE            0\n",
       "FLAG_PHONE                 0\n",
       "FLAG_EMAIL                 0\n",
       "OCCUPATION_TYPE        25120\n",
       "CNT_FAM_MEMBERS            0\n",
       "dtype: int64"
      ]
     },
     "execution_count": 32,
     "metadata": {},
     "output_type": "execute_result"
    }
   ],
   "source": [
    "# Contar valores ausentes por coluna\n",
    "df.isnull().sum()\n"
   ]
  },
  {
   "cell_type": "code",
   "execution_count": 34,
   "metadata": {},
   "outputs": [
    {
     "name": "stdout",
     "output_type": "stream",
     "text": [
      "['ID', 'CODE_GENDER', 'FLAG_OWN_CAR', 'FLAG_OWN_REALTY', 'CNT_CHILDREN', 'AMT_INCOME_TOTAL', 'NAME_INCOME_TYPE', 'NAME_EDUCATION_TYPE', 'NAME_FAMILY_STATUS', 'NAME_HOUSING_TYPE', 'DAYS_BIRTH', 'DAYS_EMPLOYED', 'FLAG_MOBIL', 'FLAG_WORK_PHONE', 'FLAG_PHONE', 'FLAG_EMAIL', 'OCCUPATION_TYPE', 'CNT_FAM_MEMBERS']\n"
     ]
    }
   ],
   "source": [
    "print(df.columns.tolist())  # Mostra a lista de colunas exatas\n"
   ]
  },
  {
   "cell_type": "code",
   "execution_count": 36,
   "metadata": {},
   "outputs": [
    {
     "name": "stdout",
     "output_type": "stream",
     "text": [
      "A coluna 'mau' não existe no dataframe. Verifique o nome correto das colunas.\n"
     ]
    }
   ],
   "source": [
    "# Verificar e corrigir o nome das colunas\n",
    "df.columns = df.columns.str.strip().str.lower()\n",
    "\n",
    "# Confirmar se 'mau' existe antes de acessar\n",
    "if 'mau' in df.columns:\n",
    "    resposta_counts = df['mau'].value_counts()\n",
    "\n",
    "    # Plotar a distribuição\n",
    "    plt.figure(figsize=(6, 4))\n",
    "    sns.barplot(x=resposta_counts.index, y=resposta_counts.values, palette=\"viridis\")\n",
    "    plt.title(\"Distribuição da Variável Resposta ('mau')\")\n",
    "    plt.xlabel(\"mau\")\n",
    "    plt.ylabel(\"Frequência\")\n",
    "    plt.show()\n",
    "else:\n",
    "    print(\"A coluna 'mau' não existe no dataframe. Verifique o nome correto das colunas.\")\n"
   ]
  },
  {
   "cell_type": "markdown",
   "metadata": {
    "id": "_v0f02mE_2si"
   },
   "source": [
    "#### 2) Vamos montar um metadados\n",
    "\n",
    "1. Crie um dataframe com os nomes de cada variável e o tipo de dados de cada variável.\n",
    "2. Adicione uma coluna nesse *dataframe* chamada \"qtd_categorias\" e coloque nela o número de categorias correspondente de cada variável.\n",
    "    Dica:\n",
    "        1. inicie uma lista vazia\n",
    "        2. faça um for ao longo dos nomes das variáveis,\n",
    "        3. conte o número de categorias dessa variável\n",
    "        4. acumule essa informação de 3. na lista que você criou em 1.\n",
    "        5. No final, essa lista pode ser atribuída à nossa variável."
   ]
  },
  {
   "cell_type": "code",
   "execution_count": 38,
   "metadata": {
    "id": "gNF5BRdA_2si"
   },
   "outputs": [
    {
     "name": "stdout",
     "output_type": "stream",
     "text": [
      "               variavel     tipo  qtd_categorias\n",
      "0                    id    int64             NaN\n",
      "1           code_gender   object             2.0\n",
      "2          flag_own_car   object             2.0\n",
      "3       flag_own_realty   object             2.0\n",
      "4          cnt_children    int64            10.0\n",
      "5      amt_income_total  float64             NaN\n",
      "6      name_income_type   object             5.0\n",
      "7   name_education_type   object             5.0\n",
      "8    name_family_status   object             5.0\n",
      "9     name_housing_type   object             6.0\n",
      "10           days_birth    int64             NaN\n",
      "11        days_employed    int64             NaN\n",
      "12           flag_mobil    int64             1.0\n",
      "13      flag_work_phone    int64             2.0\n",
      "14           flag_phone    int64             2.0\n",
      "15           flag_email    int64             2.0\n",
      "16      occupation_type   object            18.0\n",
      "17      cnt_fam_members  float64            11.0\n"
     ]
    }
   ],
   "source": [
    "\n",
    "# Criar DataFrame de metadados\n",
    "metadados = pd.DataFrame({\n",
    "    \"variavel\": df.columns,\n",
    "    \"tipo\": df.dtypes.values\n",
    "})\n",
    "\n",
    "# Criar lista para armazenar a quantidade de categorias por variável\n",
    "qtd_categorias = []\n",
    "\n",
    "# Percorrer todas as colunas para contar categorias (apenas para variáveis categóricas)\n",
    "for col in df.columns:\n",
    "    if df[col].dtype == \"object\" or df[col].nunique() < 20:  # Considerando variáveis com poucas categorias\n",
    "        qtd_categorias.append(df[col].nunique())\n",
    "    else:\n",
    "        qtd_categorias.append(None)  # Para variáveis contínuas, deixamos como None\n",
    "\n",
    "# Adicionar a coluna de quantidade de categorias ao metadados\n",
    "metadados[\"qtd_categorias\"] = qtd_categorias\n",
    "\n",
    "# Exibir a tabela de metadados\n",
    "print(metadados)\n"
   ]
  },
  {
   "cell_type": "markdown",
   "metadata": {
    "id": "h0XKJFhY_2si"
   },
   "source": [
    "#### 3) Crie variáveis dummy para as variáveis necessárias (i.e. aquelas que são qualitativas e não estão armazenadas como {0, 1} ou {True, False}. Crie um *dataframe* apenas com as variáveis apropriadas para entrada no scikitlearn - elimine as variáveis tipo *str*, mantendo apenas suas versões *dummy*."
   ]
  },
  {
   "cell_type": "code",
   "execution_count": 40,
   "metadata": {
    "id": "ePbdZDOi_2sj"
   },
   "outputs": [
    {
     "name": "stdout",
     "output_type": "stream",
     "text": [
      "        id  cnt_children  amt_income_total  days_birth  days_employed  \\\n",
      "0  5008804             0          427500.0      -12005          -4542   \n",
      "1  5008805             0          427500.0      -12005          -4542   \n",
      "2  5008806             0          112500.0      -21474          -1134   \n",
      "3  5008808             0          270000.0      -19110          -3051   \n",
      "4  5008809             0          270000.0      -19110          -3051   \n",
      "\n",
      "   flag_mobil  flag_work_phone  flag_phone  flag_email  cnt_fam_members  ...  \\\n",
      "0           1                1           0           0              2.0  ...   \n",
      "1           1                1           0           0              2.0  ...   \n",
      "2           1                0           0           0              2.0  ...   \n",
      "3           1                0           1           1              1.0  ...   \n",
      "4           1                0           1           1              1.0  ...   \n",
      "\n",
      "   occupation_type_Laborers  occupation_type_Low-skill Laborers  \\\n",
      "0                         0                                   0   \n",
      "1                         0                                   0   \n",
      "2                         0                                   0   \n",
      "3                         0                                   0   \n",
      "4                         0                                   0   \n",
      "\n",
      "   occupation_type_Managers  occupation_type_Medicine staff  \\\n",
      "0                         0                               0   \n",
      "1                         0                               0   \n",
      "2                         0                               0   \n",
      "3                         0                               0   \n",
      "4                         0                               0   \n",
      "\n",
      "   occupation_type_Private service staff  occupation_type_Realty agents  \\\n",
      "0                                      0                              0   \n",
      "1                                      0                              0   \n",
      "2                                      0                              0   \n",
      "3                                      0                              0   \n",
      "4                                      0                              0   \n",
      "\n",
      "   occupation_type_Sales staff  occupation_type_Secretaries  \\\n",
      "0                            0                            0   \n",
      "1                            0                            0   \n",
      "2                            0                            0   \n",
      "3                            1                            0   \n",
      "4                            1                            0   \n",
      "\n",
      "   occupation_type_Security staff  occupation_type_Waiters/barmen staff  \n",
      "0                               0                                     0  \n",
      "1                               0                                     0  \n",
      "2                               1                                     0  \n",
      "3                               0                                     0  \n",
      "4                               0                                     0  \n",
      "\n",
      "[5 rows x 47 columns]\n"
     ]
    }
   ],
   "source": [
    "\n",
    "# Identifica variáveis categóricas que precisam de dummies\n",
    "variaveis_categoricas = metadados.loc[metadados[\"tipo\"] == \"object\", \"variavel\"].tolist()\n",
    "\n",
    "# Cria dummies e remover as variáveis originais categóricas\n",
    "df_dummies = pd.get_dummies(df, columns=variaveis_categoricas, drop_first=True, dtype=int)\n",
    "\n",
    "# Remove colunas tipo string (caso tenha sobrado alguma)\n",
    "df_modelo = df_dummies.select_dtypes(exclude=['object'])\n",
    "\n",
    "print(df_modelo.head())\n"
   ]
  },
  {
   "cell_type": "markdown",
   "metadata": {
    "id": "uhaqFcPE_2sj"
   },
   "source": [
    "#### 4) Qual variável é mais poderosa?\n",
    "\n",
    "Considere as variáveis ```possui_email``` e ```posse_de_veiculo```. Faça uma tabela cruzada entre elas e responda qual delas te parece mais poderosa para prever a probabilidade de ```mau = 1```?"
   ]
  },
  {
   "cell_type": "code",
   "execution_count": 42,
   "metadata": {
    "id": "3wUAHc_-_2sj"
   },
   "outputs": [
    {
     "name": "stdout",
     "output_type": "stream",
     "text": [
      "Index(['id', 'code_gender', 'flag_own_car', 'flag_own_realty', 'cnt_children',\n",
      "       'amt_income_total', 'name_income_type', 'name_education_type',\n",
      "       'name_family_status', 'name_housing_type', 'days_birth',\n",
      "       'days_employed', 'flag_mobil', 'flag_work_phone', 'flag_phone',\n",
      "       'flag_email', 'occupation_type', 'cnt_fam_members'],\n",
      "      dtype='object')\n",
      "A coluna 'possui_email' não existe no dataframe. Verifique o nome correto.\n"
     ]
    }
   ],
   "source": [
    "# Verificar as colunas do dataframe\n",
    "print(df.columns)\n",
    "\n",
    "# Corrigir possíveis espaços extras nos nomes das colunas\n",
    "df.columns = df.columns.str.strip().str.lower()  # Convertendo para minúsculas para evitar erros\n",
    "\n",
    "# Verificar novamente se a coluna existe\n",
    "if 'possui_email' in df.columns:\n",
    "    cross_email = pd.crosstab(df['possui_email'], df['mau'], normalize='index') * 100\n",
    "    print(cross_email)\n",
    "else:\n",
    "    print(\"A coluna 'possui_email' não existe no dataframe. Verifique o nome correto.\")\n",
    "\n"
   ]
  },
  {
   "cell_type": "markdown",
   "metadata": {
    "id": "G2Issl2e_2sj"
   },
   "source": [
    "#### 5) Salve a base, pois ela será utilizada no final deste módulo."
   ]
  },
  {
   "cell_type": "code",
   "execution_count": 44,
   "metadata": {
    "id": "KSEj8OL9_2sk"
   },
   "outputs": [],
   "source": [
    "# Salvar a base transformada em CSV\n",
    "df.to_csv(\"base.csv\", index=False)\n"
   ]
  },
  {
   "cell_type": "code",
   "execution_count": null,
   "metadata": {},
   "outputs": [],
   "source": []
  }
 ],
 "metadata": {
  "colab": {
   "provenance": []
  },
  "kernelspec": {
   "display_name": "Python 3 (ipykernel)",
   "language": "python",
   "name": "python3"
  },
  "language_info": {
   "codemirror_mode": {
    "name": "ipython",
    "version": 3
   },
   "file_extension": ".py",
   "mimetype": "text/x-python",
   "name": "python",
   "nbconvert_exporter": "python",
   "pygments_lexer": "ipython3",
   "version": "3.12.7"
  }
 },
 "nbformat": 4,
 "nbformat_minor": 4
}
